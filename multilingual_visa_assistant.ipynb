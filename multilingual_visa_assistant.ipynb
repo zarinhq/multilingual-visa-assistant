{
 "cells": [
  {
   "cell_type": "markdown",
   "id": "c25346d1-4d6f-4d69-a5ed-d0c7f0962e41",
   "metadata": {},
   "source": [
    "# Multilingual Travel Visa Assistant "
   ]
  },
  {
   "cell_type": "markdown",
   "id": "a12658f1",
   "metadata": {},
   "source": [
    "In this project, we’re building a Multilingual Travel Visa Assistant that can answer visa-related questions for countries like Canada, the US, or the UK using real-time data scraped from official government websites. The assistant supports multiple languages — users can ask their questions in their native language, and receive responses in the same language. We’ll combine a custom web scraper, a vector search engine, a translation layer, and a language model to build an interactive Retrieval-Augmented Generation (RAG) system.\n",
    "\n",
    "For this project, we'll set up a Retrieval-Augmented Generation (RAG) system using webpages from official government sites that provide visitor visa information. The scraped visa content from these trusted sources will form the knowledge base. This content will be indexed using vector embeddings and retrieved dynamically to give relevant context to an LLM (GPT-4), which will then answer user questions accurately and conversationally."
   ]
  },
  {
   "cell_type": "markdown",
   "id": "2d4fe948",
   "metadata": {},
   "source": [
    "## Prerequisites "
   ]
  },
  {
   "cell_type": "markdown",
   "id": "2bf51aa7",
   "metadata": {},
   "source": [
    "You need an OpenAI account to create the OpenAI API Key"
   ]
  },
  {
   "cell_type": "markdown",
   "id": "85229930",
   "metadata": {},
   "source": [
    "## Setup Instructions ##"
   ]
  },
  {
   "cell_type": "markdown",
   "id": "6b746447",
   "metadata": {},
   "source": [
    "### Step 1. Set Up Environment (Mac/Linux) ###\n",
    "\n",
    "```\n",
    "python3 -m venv env\n",
    "source env/bin/activate\n",
    "pip install -r requirements.txt\n",
    "```"
   ]
  },
  {
   "cell_type": "markdown",
   "id": "f8c54752",
   "metadata": {},
   "source": [
    "### Step 2. Get OpenAI API Key ###\n",
    "\n",
    "1. Go to: <https://platform.openai.com/account/api-keys>\n",
    "\n",
    "2. Log in with your OpenAI account\n",
    "\n",
    "3. Click “Create new secret key”\n",
    "\n",
    "4. Copy and store the key securely\n",
    "\n",
    "Note: GPT-4 is usage-billed. You can set hard limits on usage in your [billing dashboard](https://platform.openai.com/settings/organization/billing/overview)."
   ]
  },
  {
   "cell_type": "markdown",
   "id": "0a5b84d6",
   "metadata": {},
   "source": [
    "### Step 3. Create .env File with API Keys ###"
   ]
  },
  {
   "cell_type": "markdown",
   "id": "046dff47",
   "metadata": {},
   "source": [
    "Create a .env file in your root project directory and add your API key like this:\n",
    "\n",
    "```\n",
    "OPENAI_API_KEY=your-openai-key\n",
    "```"
   ]
  },
  {
   "cell_type": "markdown",
   "id": "cb808bde",
   "metadata": {},
   "source": [
    "### Step 4. Launch the notebook\n",
    "```\n",
    "jupyter notebook\n",
    "```\n",
    "Open and run multilingual_visa_assistant.ipynb"
   ]
  },
  {
   "cell_type": "markdown",
   "id": "65be1c37",
   "metadata": {},
   "source": [
    "## Import Required Libraries ##"
   ]
  },
  {
   "cell_type": "markdown",
   "id": "1076523a",
   "metadata": {},
   "source": [
    "We’ll be using LangChain for our RAG pipeline, FAISS for vector search, BeautifulSoup for scraping, deep-translator for translating languages, and Gradio for a quick user interface."
   ]
  },
  {
   "cell_type": "code",
   "execution_count": 1,
   "id": "bd962bbe-68bd-4e2d-903a-d71f9cfdfccb",
   "metadata": {},
   "outputs": [],
   "source": [
    "import os\n",
    "from dotenv import load_dotenv\n",
    "import requests\n",
    "import gradio as gr\n",
    "from bs4 import BeautifulSoup\n",
    "from urllib.parse import urljoin, urlparse\n",
    "from collections import deque\n",
    "from langdetect import detect\n",
    "from deep_translator import GoogleTranslator\n",
    "from langchain_community.embeddings import HuggingFaceEmbeddings\n",
    "from langchain_openai import ChatOpenAI\n",
    "from langchain_community.vectorstores import FAISS\n",
    "from langchain.docstore.document import Document\n",
    "from langchain.text_splitter import RecursiveCharacterTextSplitter\n",
    "from langchain.chains import RetrievalQA"
   ]
  },
  {
   "cell_type": "code",
   "execution_count": 2,
   "id": "eb9eaa1f-4f32-4a94-92a0-b804d00f3372",
   "metadata": {},
   "outputs": [],
   "source": [
    "load_dotenv()\n",
    "OPENAI_API_KEY = os.getenv(\"OPENAI_API_KEY\")"
   ]
  },
  {
   "cell_type": "markdown",
   "id": "677156b6-f983-401c-ad91-45b2d3ca8244",
   "metadata": {},
   "source": [
    "## Define Visa Websites ## "
   ]
  },
  {
   "cell_type": "markdown",
   "id": "3b423194",
   "metadata": {},
   "source": [
    "We’ll index a small set of visa-related government URLs to create our knowledge base. These official pages will serve as the data sources from which we extract content. The cleaned and relevant text from these pages will be turned into vector embeddings and stored in a FAISS index. This will allow our assistant to dynamically retrieve and feed context to an LLM (GPT-4), enabling it to answer user questions with real and current information."
   ]
  },
  {
   "cell_type": "code",
   "execution_count": 3,
   "id": "163e8b3b-2298-4a82-b1fb-67f0412a460b",
   "metadata": {},
   "outputs": [],
   "source": [
    "TRAVEL_URLS = {\n",
    "    \"canada\": \"https://www.canada.ca/en/immigration-refugees-citizenship/services/visit-canada.html\",\n",
    "    \"usa\": \"https://travel.state.gov/content/travel/en/us-visas/tourism-visit.html\",\n",
    "    \"uk\": \"https://www.gov.uk/standard-visitor\",\n",
    "    # \"australia\": \"https://immi.homeaffairs.gov.au/visas/getting-a-visa/visa-finder/visit\",\n",
    "    # \"japan\": \"https://www.mofa.go.jp/j_info/visit/visa/index.html\",\n",
    "    # \"germany\": \"https://www.germany.info/us-en/service/visa-entry\",\n",
    "    # \"south_korea\": \"https://www.visa.go.kr/openPage.do?MENU_ID=10101\",\n",
    "    # \"new_zealand\": \"https://www.immigration.govt.nz/new-zealand-visas\",\n",
    "    # \"india\": \"https://indianvisaonline.gov.in/\",\n",
    "    # \"singapore\": \"https://www.ica.gov.sg/enter-transit-depart/entering-singapore\"\n",
    "}"
   ]
  },
  {
   "cell_type": "markdown",
   "id": "fa0806fc-bd33-4020-8685-2dbad4abbe50",
   "metadata": {},
   "source": [
    "## Load Data ##"
   ]
  },
  {
   "cell_type": "markdown",
   "id": "49513bc5",
   "metadata": {},
   "source": [
    "For this project, instead of using a built-in LangChain loader like ```WebBaseLoader```, we are going to build a custom scraper using BeautifulSoup. This gives us full control to follow internal links and limit how deep we go (to avoid crawling unrelated content). The scraper collects visible paragraph text from a set of visa-related government URLs and their subpages. Each page will be converted into a LangChain Document object, which stores both the text and some useful metadata like the URL and depth level.\n",
    "\n",
    "At the end of the scraping process, we'll print a sample document to inspect its structure and content."
   ]
  },
  {
   "cell_type": "code",
   "execution_count": 4,
   "id": "25856243-76e5-439e-bf36-966056fd7760",
   "metadata": {},
   "outputs": [],
   "source": [
    "from bs4 import BeautifulSoup\n",
    "from urllib.parse import urlparse, urljoin\n",
    "from collections import deque\n",
    "\n",
    "def scrape_data(start_url, country, max_depth=1, max_pages=10):\n",
    "    visited = set()\n",
    "    to_visit = deque([(start_url, 0)])\n",
    "    documents = []\n",
    "\n",
    "    while to_visit and len(visited) < max_pages:\n",
    "        current_url, level = to_visit.popleft()\n",
    "        if current_url in visited or level > max_depth:\n",
    "            continue\n",
    "\n",
    "        try:\n",
    "            response = requests.get(current_url, timeout=10)\n",
    "            soup = BeautifulSoup(response.text, \"html.parser\")\n",
    "            paragraphs = soup.find_all(\"p\")\n",
    "            text = \"\\n\".join(p.get_text(strip=True) for p in paragraphs)\n",
    "\n",
    "            if text.strip():\n",
    "                documents.append(\n",
    "                    Document(\n",
    "                        page_content=text,\n",
    "                        metadata={\"source\": country, \"url\": current_url, \"level\": level}\n",
    "                    )\n",
    "                )\n",
    "                print(f\"Visiting: {current_url} (Level {level}) — {len(visited)+1}\")\n",
    "\n",
    "\n",
    "            visited.add(current_url)\n",
    "\n",
    "            base_netloc = urlparse(start_url).netloc\n",
    "            for a_tag in soup.find_all(\"a\", href=True):\n",
    "                href = a_tag[\"href\"]\n",
    "                full_url = urljoin(current_url, href)\n",
    "                if urlparse(full_url).netloc == base_netloc and full_url not in visited:\n",
    "                    to_visit.append((full_url, level + 1))\n",
    "\n",
    "        except Exception as e:\n",
    "            print(f\"Failed to visit {current_url}: {e}\")\n",
    "\n",
    "    return documents\n"
   ]
  },
  {
   "cell_type": "markdown",
   "id": "7b4d7193",
   "metadata": {},
   "source": [
    "## Scrape & Load Documents ##"
   ]
  },
  {
   "cell_type": "markdown",
   "id": "924e030c",
   "metadata": {},
   "source": [
    "We'll be loading a maximum of 50 pages, 2 levels deep from each starting URL. This keeps data current but manageable."
   ]
  },
  {
   "cell_type": "code",
   "execution_count": 5,
   "id": "14d1e763-e491-4c3d-b01f-787ed0b64ca8",
   "metadata": {},
   "outputs": [
    {
     "name": "stdout",
     "output_type": "stream",
     "text": [
      "Getting Data from CANADA\n",
      "Visiting: https://www.canada.ca/en/immigration-refugees-citizenship/services/visit-canada.html (Level 0) — 1\n",
      "Visiting: https://www.canada.ca/en/immigration-refugees-citizenship/services/visit-canada.html#wb-cont (Level 1) — 2\n",
      "Visiting: https://www.canada.ca/en/immigration-refugees-citizenship/services/visit-canada.html#wb-info (Level 1) — 3\n",
      "Visiting: https://www.canada.ca/fr/immigration-refugies-citoyennete/services/visiter-canada.html (Level 1) — 4\n",
      "Visiting: https://www.canada.ca/en.html (Level 1) — 5\n",
      "Visiting: https://www.canada.ca/en/services/jobs.html (Level 1) — 6\n",
      "Visiting: https://www.canada.ca/en/services/immigration-citizenship.html (Level 1) — 7\n",
      "Visiting: https://www.canada.ca/en/services/business.html (Level 1) — 8\n",
      "Visiting: https://www.canada.ca/en/services/benefits.html (Level 1) — 9\n",
      "Visiting: https://www.canada.ca/en/services/health.html (Level 1) — 10\n",
      "Visiting: https://www.canada.ca/en/services/taxes.html (Level 1) — 11\n",
      "Visiting: https://www.canada.ca/en/services/environment.html (Level 1) — 12\n",
      "Visiting: https://www.canada.ca/en/services/defence.html (Level 1) — 13\n",
      "Visiting: https://www.canada.ca/en/services/culture.html (Level 1) — 14\n",
      "Visiting: https://www.canada.ca/en/services/policing.html (Level 1) — 15\n",
      "Visiting: https://www.canada.ca/en/services/transport.html (Level 1) — 16\n",
      "Visiting: https://www.canada.ca/en/services/finance.html (Level 1) — 17\n",
      "Visiting: https://www.canada.ca/en/services/science.html (Level 1) — 18\n",
      "Visiting: https://www.canada.ca/en/immigration-refugees-citizenship/services/application/ircc-accounts.html (Level 1) — 19\n",
      "Visiting: https://www.canada.ca/en/immigration-refugees-citizenship/services/visit-canada/accounts.html (Level 1) — 20\n",
      "Visiting: https://www.canada.ca/en/immigration-refugees-citizenship/services/application/check-status.html (Level 1) — 21\n",
      "Visiting: https://www.canada.ca/en/immigration-refugees-citizenship/services/application/check-processing-times.html (Level 1) — 22\n",
      "Visiting: https://www.canada.ca/en/immigration-refugees-citizenship/services/visit-canada/visitor-visa.html (Level 1) — 23\n",
      "Visiting: https://www.canada.ca/en/immigration-refugees-citizenship/services/visit-canada/eta.html (Level 1) — 24\n",
      "Visiting: https://www.canada.ca/en/immigration-refugees-citizenship/services/visit-canada/extend-stay.html (Level 1) — 25\n",
      "Visiting: https://www.canada.ca/en/immigration-refugees-citizenship/services/visit-canada/apply-new-temporary-resident-visa-within-canada.html (Level 1) — 26\n",
      "Visiting: https://www.canada.ca/en/immigration-refugees-citizenship/services/visit-canada/parent-grandparent-super-visa.html (Level 1) — 27\n",
      "Visiting: https://www.canada.ca/en/immigration-refugees-citizenship/services/visit-canada/business.html (Level 1) — 28\n",
      "Visiting: https://www.canada.ca/en/immigration-refugees-citizenship/services/visit-canada/transit.html (Level 1) — 29\n",
      "Visiting: https://www.canada.ca/en/immigration-refugees-citizenship.html (Level 1) — 30\n",
      "Visiting: https://www.canada.ca/en/immigration-refugees-citizenship/corporate/contact-ircc.html (Level 1) — 31\n",
      "Visiting: https://www.canada.ca/en/contact.html (Level 1) — 32\n",
      "Visiting: https://www.canada.ca/en/government/dept.html (Level 1) — 33\n",
      "Visiting: https://www.canada.ca/en/government/system.html (Level 1) — 34\n",
      "Visiting: https://www.canada.ca/en/services/indigenous-peoples.html (Level 1) — 35\n",
      "Visiting: https://www.canada.ca/en/services/veterans-military.html (Level 1) — 36\n",
      "Visiting: https://www.canada.ca/en/services/youth.html (Level 1) — 37\n",
      "Visiting: https://www.canada.ca/en/social.html (Level 1) — 38\n",
      "Visiting: https://www.canada.ca/en/mobile.html (Level 1) — 39\n",
      "Visiting: https://www.canada.ca/en/government/about.html (Level 1) — 40\n",
      "Visiting: https://www.canada.ca/en/transparency/terms.html (Level 1) — 41\n",
      "Visiting: https://www.canada.ca/en/transparency/privacy.html (Level 1) — 42\n",
      "Visiting: https://www.canada.ca/fr/immigration-refugies-citoyennete/services/visiter-canada.html#wb-cont (Level 2) — 43\n",
      "Visiting: https://www.canada.ca/fr/immigration-refugies-citoyennete/services/visiter-canada.html#wb-info (Level 2) — 44\n",
      "Visiting: https://www.canada.ca/fr.html (Level 2) — 45\n",
      "Visiting: https://www.canada.ca/fr/services/emplois.html (Level 2) — 46\n",
      "Visiting: https://www.canada.ca/fr/services/immigration-citoyennete.html (Level 2) — 47\n",
      "Visiting: https://www.canada.ca/fr/services/entreprises.html (Level 2) — 48\n",
      "Visiting: https://www.canada.ca/fr/services/prestations.html (Level 2) — 49\n",
      "Visiting: https://www.canada.ca/fr/services/sante.html (Level 2) — 50\n",
      "50 documents scraped for canada\n",
      "Getting Data from USA\n",
      "Visiting: https://travel.state.gov/content/travel/en/us-visas/tourism-visit.html (Level 0) — 1\n",
      "Visiting: https://travel.state.gov/content/travel/en/us-visas/tourism-visit.html#inner-content (Level 1) — 2\n",
      "Visiting: https://travel.state.gov/content/travel.html (Level 1) — 3\n",
      "Visiting: https://travel.state.gov/content/travel/en/traveladvisories/traveladvisories.html (Level 1) — 4\n",
      "Visiting: https://travel.state.gov/content/travel/en/News/newsroom.html (Level 1) — 5\n",
      "Visiting: https://travel.state.gov/content/travel/en/about-us.html (Level 1) — 6\n",
      "Visiting: https://travel.state.gov/content/travel/en/contact-us.html (Level 1) — 7\n",
      "Visiting: https://travel.state.gov/content/travel/en/about-us/mytravelgov.html (Level 1) — 8\n",
      "Visiting: https://travel.state.gov/content/congress-liaison-home/en/Congressional_Liaison.html (Level 1) — 9\n",
      "Visiting: https://travel.state.gov/content/special-issuance-agency-home/en/spec-issuance-agency.html (Level 1) — 10\n",
      "Visiting: https://travel.state.gov/content/travel/en/passports.html (Level 1) — 11\n",
      "Visiting: https://travel.state.gov/content/travel/en/international-travel.html (Level 1) — 12\n",
      "Visiting: https://travel.state.gov/content/travel/en/us-visas.html (Level 1) — 13\n",
      "Visiting: https://travel.state.gov/content/travel/en/Intercountry-Adoption.html (Level 1) — 14\n",
      "Visiting: https://travel.state.gov/content/travel/en/International-Parental-Child-Abduction.html (Level 1) — 15\n",
      "Visiting: https://travel.state.gov/content/travel/en/records-and-authentications.html (Level 1) — 16\n",
      "Visiting: https://travel.state.gov/content/travel/en/rss.html (Level 1) — 17\n",
      "Visiting: https://travel.state.gov/content/travel/en/legal.html (Level 1) — 18\n",
      "Visiting: https://travel.state.gov/content/travel/en/consularnotification.html (Level 1) — 19\n",
      "Visiting: https://travel.state.gov/en/congressional-liaison.html (Level 1) — 20\n",
      "Visiting: https://travel.state.gov/content/travel/en/replace-certify-docs.html (Level 1) — 21\n",
      "Visiting: https://travel.state.gov/content/travel/en/us-visas/business.html (Level 1) — 22\n",
      "Visiting: https://travel.state.gov/content/travel/en/us-visas/employment.html (Level 1) — 23\n",
      "Visiting: https://travel.state.gov/content/travel/en/us-visas/study.html (Level 1) — 24\n",
      "Visiting: https://travel.state.gov/content/travel/en/us-visas/immigrate.html (Level 1) — 25\n",
      "Visiting: https://travel.state.gov/content/travel/en/us-visas/other-visa-categories.html (Level 1) — 26\n",
      "Visiting: https://travel.state.gov/content/travel/en/us-visas/Visa-Reciprocity-and-Civil-Documents-by-Country.html (Level 1) — 27\n",
      "Visiting: https://travel.state.gov/content/travel/en/us-visas/tourism-visit/visitor.html (Level 1) — 28\n",
      "Visiting: https://travel.state.gov/content/travel/en/us-visas/tourism-visit/visa-waiver-program.html (Level 1) — 29\n",
      "Visiting: https://travel.state.gov/content/travel/en/us-visas/tourism-visit/travel-without-a-visa.html (Level 1) — 30\n",
      "Visiting: https://travel.state.gov/content/travel/en/us-visas/tourism-visit/citizens-of-canada-and-bermuda.html (Level 1) — 31\n",
      "Visiting: https://travel.state.gov/content/travel/en/us-visas/tourism-visit/visitor.html#overview (Level 1) — 32\n",
      "Visiting: https://travel.state.gov/content/travel/en/us-visas/tourism-visit/visitor.html#apply (Level 1) — 33\n",
      "Visiting: https://travel.state.gov/content/travel/en/us-visas/tourism-visit/visitor.html#fees (Level 1) — 34\n",
      "Visiting: https://travel.state.gov/content/travel/en/us-visas/tourism-visit/visitor.html#documentation (Level 1) — 35\n",
      "Visiting: https://travel.state.gov/content/travel/en/us-visas/visa-information-resources/all-visa-categories.html (Level 1) — 36\n",
      "Visiting: https://travel.state.gov/content/travel/en/us-visas/visa-information-resources/wizard.html (Level 1) — 37\n",
      "Visiting: https://travel.state.gov/content/travel/en/News/visas-news/archive.html (Level 1) — 38\n",
      "Visiting: https://travel.state.gov/content/travel/en/us-visas/visa-information-resources/a-z-index.html (Level 1) — 39\n",
      "Visiting: https://travel.state.gov/content/travel/en/us-visas/visa-information-resources/rights.html (Level 1) — 40\n",
      "Visiting: https://travel.state.gov/content/travel/en/us-visas/visa-information-resources/lost-stolen-visas.html (Level 1) — 41\n",
      "Visiting: https://travel.state.gov/content/travel/en/us-visas/visa-information-resources/visa-denials.html (Level 1) — 42\n",
      "Visiting: https://travel.state.gov/content/travel/en/us-visas/visa-information-resources/waivers.html (Level 1) — 43\n",
      "Visiting: https://travel.state.gov/content/travel/en/us-visas/visa-information-resources/straight-facts-on-u-s-visas.html (Level 1) — 44\n",
      "Visiting: https://travel.state.gov/content/travel/en/us-visas/visa-information-resources/customer-service-statement.html (Level 1) — 45\n",
      "Visiting: https://travel.state.gov/content/travel/en/us-visas/visa-information-resources/frequently-asked-questions/about-basics.html (Level 1) — 46\n",
      "Visiting: https://travel.state.gov/content/travel/en/copyright-disclaimer.html (Level 1) — 47\n",
      "Visiting: https://travel.state.gov/content/travel.html#inner-content (Level 2) — 48\n",
      "Visiting: https://travel.state.gov/content/travel/en/replace-certify-docs/requesting-a-record.html (Level 2) — 49\n",
      "Visiting: https://travel.state.gov/content/travel/en/replace-certify-docs/authenticate-your-document.html (Level 2) — 50\n",
      "50 documents scraped for usa\n",
      "Getting Data from UK\n",
      "Visiting: https://www.gov.uk/standard-visitor (Level 0) — 1\n",
      "Visiting: https://www.gov.uk/help/cookies (Level 1) — 2\n",
      "Visiting: https://www.gov.uk/standard-visitor#content (Level 1) — 3\n",
      "Visiting: https://www.gov.uk (Level 1) — 4\n",
      "Visiting: https://www.gov.uk/browse (Level 1) — 5\n",
      "Visiting: https://www.gov.uk/search (Level 1) — 6\n",
      "Visiting: https://www.gov.uk/browse/benefits (Level 1) — 7\n",
      "Visiting: https://www.gov.uk/browse/births-deaths-marriages (Level 1) — 8\n",
      "Visiting: https://www.gov.uk/browse/business (Level 1) — 9\n",
      "Visiting: https://www.gov.uk/browse/childcare-parenting (Level 1) — 10\n",
      "Visiting: https://www.gov.uk/browse/citizenship (Level 1) — 11\n",
      "Visiting: https://www.gov.uk/browse/justice (Level 1) — 12\n",
      "Visiting: https://www.gov.uk/browse/disabilities (Level 1) — 13\n",
      "Visiting: https://www.gov.uk/browse/driving (Level 1) — 14\n",
      "Visiting: https://www.gov.uk/browse/education (Level 1) — 15\n",
      "Visiting: https://www.gov.uk/browse/employing-people (Level 1) — 16\n",
      "Visiting: https://www.gov.uk/browse/environment-countryside (Level 1) — 17\n",
      "Visiting: https://www.gov.uk/browse/housing-local-services (Level 1) — 18\n",
      "Visiting: https://www.gov.uk/browse/tax (Level 1) — 19\n",
      "Visiting: https://www.gov.uk/browse/abroad (Level 1) — 20\n",
      "Visiting: https://www.gov.uk/browse/visas-immigration (Level 1) — 21\n",
      "Visiting: https://www.gov.uk/browse/working (Level 1) — 22\n",
      "Visiting: https://www.gov.uk/government/organisations (Level 1) — 23\n",
      "Visiting: https://www.gov.uk/search/news-and-communications (Level 1) — 24\n",
      "Visiting: https://www.gov.uk/search/guidance-and-regulation (Level 1) — 25\n",
      "Visiting: https://www.gov.uk/search/research-and-statistics (Level 1) — 26\n",
      "Visiting: https://www.gov.uk/search/policy-papers-and-consultations (Level 1) — 27\n",
      "Visiting: https://www.gov.uk/search/transparency-and-freedom-of-information-releases (Level 1) — 28\n",
      "Visiting: https://www.gov.uk/ (Level 1) — 29\n",
      "Visiting: https://www.gov.uk/browse/visas-immigration/tourist-short-stay-visas (Level 1) — 30\n",
      "Visiting: https://www.gov.uk/standard-visitor#guide-contents (Level 1) — 31\n",
      "Visiting: https://www.gov.uk/standard-visitor/visit-on-business (Level 1) — 32\n",
      "Visiting: https://www.gov.uk/standard-visitor/visit-to-study (Level 1) — 33\n",
      "Visiting: https://www.gov.uk/standard-visitor/visit-as-an-academic (Level 1) — 34\n",
      "Visiting: https://www.gov.uk/standard-visitor/paid-engagement-event (Level 1) — 35\n",
      "Visiting: https://www.gov.uk/standard-visitor/visit-for-medical-reasons (Level 1) — 36\n",
      "Visiting: https://www.gov.uk/standard-visitor/if-youre-under-18 (Level 1) — 37\n",
      "Visiting: https://www.gov.uk/standard-visitor/apply-standard-visitor-visa (Level 1) — 38\n",
      "Visiting: https://www.gov.uk/standard-visitor/extend-your-stay (Level 1) — 39\n",
      "Visiting: https://www.gov.uk/marriage-visa (Level 1) — 40\n",
      "Visiting: https://www.gov.uk/guidance/travelling-between-the-uk-and-ireland-isle-of-man-guernsey-or-jersey (Level 1) — 41\n",
      "Visiting: https://www.gov.uk/guidance/apply-for-an-electronic-travel-authorisation-eta (Level 1) — 42\n",
      "Visiting: https://www.gov.uk/check-uk-visa (Level 1) — 43\n",
      "Visiting: https://www.gov.uk/transit-visa/visitor-in-transit-visa (Level 1) — 44\n",
      "Visiting: https://www.gov.uk/standard-visitor/print (Level 1) — 45\n",
      "Visiting: https://www.gov.uk/transit-visa (Level 1) — 46\n",
      "Visiting: https://www.gov.uk/browse/visas-immigration/student-visas (Level 1) — 47\n",
      "Visiting: https://www.gov.uk/contact/govuk (Level 1) — 48\n",
      "Visiting: https://www.gov.uk/government/how-government-works (Level 1) — 49\n",
      "Visiting: https://www.gov.uk/government/get-involved (Level 1) — 50\n",
      "50 documents scraped for uk\n",
      "\n",
      "Total documents: 150\n"
     ]
    }
   ],
   "source": [
    "MAX_DEPTH = 2\n",
    "MAX_PAGES=50\n",
    "\n",
    "all_documents = []\n",
    "\n",
    "for country, url in TRAVEL_URLS.items():\n",
    "    print(f\"Getting Data from {country.upper()}\")\n",
    "    docs = scrape_data(url, country, max_depth=MAX_DEPTH, max_pages=MAX_PAGES)\n",
    "    print(f\"{len(docs)} documents scraped for {country}\")\n",
    "    all_documents.extend(docs)\n",
    "\n",
    "print(f\"\\nTotal documents: {len(all_documents)}\")\n"
   ]
  },
  {
   "cell_type": "markdown",
   "id": "ec17adc0-12d4-4889-a956-27e3578285ca",
   "metadata": {},
   "source": [
    "## Chunk Text ##"
   ]
  },
  {
   "cell_type": "markdown",
   "id": "de51998a",
   "metadata": {},
   "source": [
    "We need to split the scraped content into smaller, more manageable pieces called \"chunks.\" LangChain’s ```RecursiveCharacterTextSplitter``` does this by attempting to break large blocks of text at logical boundaries using a prioritized set of characters:\n",
    "\n",
    "- \"\\n\\n\" - two new line characters\n",
    "- \"\\n\" - one new line character\n",
    "- \" \" - a space\n",
    "- \"\" - an empty character\n",
    "\n",
    "It starts with the first option, \"\\n\\n\" and moves through the list if the resulting pieces are still too long. This method ensures that splits happen in the most natural way possible.\n",
    "\n",
    "For this project, we'll use a chunk size of 500 characters with a 50-character overlap. This provides the model with enough context to form meaningful answers without overwhelming it. Larger chunks (like 1000 characters) led to noisy and confused results in earlier testing, so I refined it to this size."
   ]
  },
  {
   "cell_type": "code",
   "execution_count": 6,
   "id": "1676d842-61a6-4b47-95a0-05779baa5b30",
   "metadata": {},
   "outputs": [],
   "source": [
    "splitter = RecursiveCharacterTextSplitter(chunk_size=500, chunk_overlap=50)\n",
    "chunks = splitter.split_documents(all_documents)"
   ]
  },
  {
   "cell_type": "markdown",
   "id": "874792a3-6d41-4e18-8ccb-31e596dc59d3",
   "metadata": {},
   "source": [
    "## Embeddings and Vectorstore ##"
   ]
  },
  {
   "cell_type": "markdown",
   "id": "b3f00d3b",
   "metadata": {},
   "source": [
    "Choosing the right embedding model is critical to how well the assistant can understand and retrieve relevant information. Since this project uses text scraped from visa-related government websites, we opted for Hugging Face’s ```sentence-transformers/all-MiniLM-L6-v2``` model via ```HuggingFaceEmbeddings``` to create vector representations of the content.\n",
    "\n",
    "This model is fast, lightweight, and freely available — which makes it ideal for projects that need to run locally without incurring usage costs. Although we could have used OpenAI’s ```text-embedding-ada-002``` via OpenAIEmbeddings, it would require API access and comes with a price. Open-source alternatives like GloVe, Word2Vec, or BERT could also be considered, but MiniLM offers a strong tradeoff between speed and quality for retrieval tasks.\n",
    "\n",
    "In contrast, the English-only Travel Visa Assistant project uses OpenAIEmbeddings (```text-embedding-ada-002```) for vectorization. That choice was made to prioritize semantic quality and simplicity of integration in a mono-language setting where fewer translation dependencies exist. However, for the multilingual assistant, we prioritized cost efficiency and local execution due to additional resource usage introduced by translation and detection layers.\n",
    "\n",
    "Here’s how the embeddings and FAISS index were set up:"
   ]
  },
  {
   "cell_type": "code",
   "execution_count": 7,
   "id": "6d1877cb-d11b-4e92-974f-c5cde014deef",
   "metadata": {},
   "outputs": [],
   "source": [
    "embeddings = HuggingFaceEmbeddings(model_name=\"sentence-transformers/all-MiniLM-L6-v2\")\n",
    "vectorstore = FAISS.from_documents(chunks, embeddings)"
   ]
  },
  {
   "cell_type": "markdown",
   "id": "4f50d3a0-0a67-4070-a7eb-4f0cb4220941",
   "metadata": {},
   "source": [
    "## Setup Model and Retriever"
   ]
  },
  {
   "cell_type": "markdown",
   "id": "93bb2620",
   "metadata": {},
   "source": [
    "The next step is to turn our FAISS vectorstore into a retriever. This retriever will fetch relevant chunks of visa content to provide context for our generative model. The context helps the LLM generate more accurate and grounded responses.\n",
    "\n",
    "In this project, we'll use OpenAI’s gpt-4 model through LangChain. It was selected for its strong performance in question-answering tasks, especially when combined with relevant context. Alternatives like local models were not chosen due to the memory and compute requirements.\n",
    "\n",
    "Here’s how the retrieval and model setup looks:"
   ]
  },
  {
   "cell_type": "code",
   "execution_count": 8,
   "id": "9f1d0363-98bb-4b21-89f6-e742304de0df",
   "metadata": {},
   "outputs": [],
   "source": [
    "llm = ChatOpenAI(model_name=\"gpt-4\", openai_api_key=OPENAI_API_KEY)\n",
    "qa_chain = RetrievalQA.from_chain_type(llm=llm, retriever=vectorstore.as_retriever())"
   ]
  },
  {
   "cell_type": "markdown",
   "id": "c9c3e1d7",
   "metadata": {},
   "source": [
    "## Ask Question in English"
   ]
  },
  {
   "cell_type": "code",
   "execution_count": 9,
   "id": "13839a02-2799-4864-a611-15be6b8fa7c2",
   "metadata": {},
   "outputs": [
    {
     "name": "stdout",
     "output_type": "stream",
     "text": [
      "Answer: The context does not provide specific details on who can apply for a visitor visa in Canada. However, it does mention that you can only apply for a visitor visa from inside Canada if you meet all of the given criteria, which are not specified in the provided context. If you're outside Canada, you must follow the process to apply for a visa from outside Canada and there may be different requirements you need to meet.\n"
     ]
    }
   ],
   "source": [
    "test_question = \"Who can apply for a visitor visa in Canada?\"\n",
    "\n",
    "try:\n",
    "    result = qa_chain.invoke(test_question)\n",
    "    print(\"Answer:\", result['result'])\n",
    "except Exception as e:\n",
    "    print(\"Error:\", e)\n"
   ]
  },
  {
   "cell_type": "markdown",
   "id": "be5d784a-406e-40e7-916f-de27e97e00e5",
   "metadata": {},
   "source": [
    "## Translation Function ##"
   ]
  },
  {
   "cell_type": "markdown",
   "id": "83aa6912",
   "metadata": {},
   "source": [
    "We use ```langdetect``` to automatically detect the language of the user’s question, and ```deep-translator``` (GoogleTranslator) to handle language translation. This allows users to interact with the assistant in a wide range of languages, while the system processes everything internally in English.\n",
    "\n",
    "The ```translate()``` function handles this conversion. It detects the language of the incoming query, translates it into English before passing it to the model, and then translates the model's response back into the original language.\n",
    "\n",
    "This is what the function looks like:"
   ]
  },
  {
   "cell_type": "code",
   "execution_count": 10,
   "id": "4484aad2-0d64-4e26-92c2-46d137677213",
   "metadata": {},
   "outputs": [],
   "source": [
    "def translate(text, source_lang=\"auto\", target_lang=\"en\"):\n",
    "    try:\n",
    "        return GoogleTranslator(source=source_lang, target=target_lang).translate(text)\n",
    "    except Exception as e:\n",
    "        return f\"[Translation error] {text}\""
   ]
  },
  {
   "cell_type": "markdown",
   "id": "b248c5e6-10ed-4b79-8bf8-64453fd72299",
   "metadata": {},
   "source": [
    "## Multilingual Chatbot Logic ##"
   ]
  },
  {
   "cell_type": "markdown",
   "id": "45c004ae",
   "metadata": {},
   "source": [
    "This setup provides a clean abstraction for multilingual support while minimizing dependencies and keeping the translation logic modular.\n",
    "\n",
    "Here’s how we integrate it into our assistant: to automatically detect the language of the user’s question, and ```deep-translator``` (GoogleTranslate) to translate the question to English before sending it to GPT-4. The answer is then translated back into the user’s original language."
   ]
  },
  {
   "cell_type": "code",
   "execution_count": 11,
   "id": "188ab2c8-b644-4daf-90da-1b9c004f4101",
   "metadata": {},
   "outputs": [],
   "source": [
    "def detect_language(text):\n",
    "    try:\n",
    "        return detect(text)\n",
    "    except:\n",
    "        return \"en\"\n",
    "\n",
    "def multilingual_travel_bot(user_input):\n",
    "    try:\n",
    "        lang = detect_language(user_input)\n",
    "        query_en = translate(user_input, source_lang=lang, target_lang=\"en\") if lang != \"en\" else user_input\n",
    "        answer_en = qa_chain.invoke(query_en)['result']\n",
    "        final_answer = translate(answer_en, source_lang=\"en\", target_lang=lang) if lang != \"en\" else answer_en\n",
    "        return final_answer\n",
    "    except Exception as e:\n",
    "        return f\"Error: {e}\""
   ]
  },
  {
   "cell_type": "markdown",
   "id": "ac79de6b-1976-4646-946f-7a62a196ec37",
   "metadata": {},
   "source": [
    "## Test Translation ##"
   ]
  },
  {
   "cell_type": "code",
   "execution_count": 12,
   "id": "7a4c2465-9606-435d-98a8-5b762af99a4e",
   "metadata": {},
   "outputs": [],
   "source": [
    "def test_multilingual(user_input):\n",
    "    try:\n",
    "        detected_lang = detect_language(user_input)\n",
    "        print(f\"\\nOriginal Question in {detected_lang}: {user_input}\")\n",
    "\n",
    "        if detected_lang != \"en\":\n",
    "            translated_en = translate(user_input, source_lang=detected_lang, target_lang=\"en\")\n",
    "            print(f\"\\nTranslated to English: {translated_en}\")\n",
    "        else:\n",
    "            translated_en = user_input\n",
    "            print(\"Already in English\")\n",
    "\n",
    "       \n",
    "        answer_en = qa_chain.invoke(translated_en)['result']\n",
    "        print(f\"\\nAnswer in English: {answer_en}\")\n",
    "\n",
    "       \n",
    "        if detected_lang != \"en\":\n",
    "            translated_back = translate(answer_en, source_lang=\"en\", target_lang=detected_lang)\n",
    "            print(f\"\\nAnswer translated back to {detected_lang}: {translated_back}\")\n",
    "        else:\n",
    "            print(\"\\n User asked in English)\")\n",
    "\n",
    "    except Exception as e:\n",
    "        print(f\"Error: {e}\")\n"
   ]
  },
  {
   "cell_type": "code",
   "execution_count": 13,
   "id": "d266295a-448f-4c65-ad04-397fc19f9229",
   "metadata": {},
   "outputs": [
    {
     "name": "stdout",
     "output_type": "stream",
     "text": [
      "\n",
      "Original Question in es: ¿Quién puede solicitar una visa de visitante para Canadá?\n",
      "\n",
      "Translated to English: Who can request a visitor visa for Canada?\n",
      "\n",
      "Answer in English: Anyone who meets the requirements for travel to Canada can request a visitor visa. This can include individuals who wish to visit, work, or study in the country. However, the specific requirements may vary based on the individual's home country and other factors. To determine eligibility, one would need to answer a few questions on the official Government of Canada website.\n",
      "\n",
      "Answer translated back to es: Cualquier persona que cumpla con los requisitos para viajar a Canadá puede solicitar una visa de visitante. Esto puede incluir personas que deseen visitar, trabajar o estudiar en el país. Sin embargo, los requisitos específicos pueden variar según el país de origen del individuo y otros factores. Para determinar la elegibilidad, uno necesitaría responder algunas preguntas en el sitio web oficial del Gobierno de Canadá.\n"
     ]
    }
   ],
   "source": [
    "test_multilingual(\"¿Quién puede solicitar una visa de visitante para Canadá?\")"
   ]
  },
  {
   "cell_type": "code",
   "execution_count": 14,
   "id": "bfee7887-0fb9-4334-8f45-5be5c7e6abe1",
   "metadata": {},
   "outputs": [
    {
     "name": "stdout",
     "output_type": "stream",
     "text": [
      "\n",
      "Original Question in fr: Quel sont les exigences de visa pour les citoyens canadiens voyageant aux États-Unis ?\n",
      "\n",
      "Translated to English: What are the visa requirements for Canadian citizens traveling to the United States?\n",
      "\n",
      "Answer in English: Canadian citizens generally do not require visas to enter the United States for visit, tourism, and temporary business travel purposes. However, they do require nonimmigrant visas for specific purposes such as acting as foreign government officials, officials and employees of international organizations, NATO officials, representatives, and employees, treaty traders, treaty investors, or if they are the spouse or child of an Australian Treaty Alien coming to the United States solely to perform. Additionally, Canadian citizens who are inadmissible to the United States under United States immigration law or have previously violated the terms of their immigration status in the United States, have to apply for a visa.\n",
      "\n",
      "Answer translated back to fr: Les citoyens canadiens ne nécessitent généralement pas de visas pour entrer aux États-Unis à des fins de visite, de tourisme et de voyage dans les affaires temporaires. Cependant, ils ont besoin de visas non immigrants à des fins spécifiques telles que d'agir en tant que responsables du gouvernement étranger, des fonctionnaires et des employés d'organisations internationales, des responsables de l'OTAN, des représentants et des employés, des commerçants de traités, des investisseurs traités, ou s'ils sont le conjoint ou l'enfant d'un traité australien qui venait uniquement aux États-Unis pour se produire. De plus, les citoyens canadiens qui sont inadmissibles aux États-Unis en vertu de la loi sur l'immigration des États-Unis ou qui ont précédemment violé les termes de leur statut d'immigration aux États-Unis, doivent demander un visa.\n"
     ]
    }
   ],
   "source": [
    "test_multilingual(\"Quel sont les exigences de visa pour les citoyens canadiens voyageant aux États-Unis ?\")"
   ]
  },
  {
   "cell_type": "code",
   "execution_count": 15,
   "id": "42cb427b-049e-4bad-9f97-14e0d0fd0439",
   "metadata": {},
   "outputs": [
    {
     "name": "stdout",
     "output_type": "stream",
     "text": [
      "\n",
      "Original Question in hi: यूके में एक शैक्षणिक के रूप में कैसे यात्रा करें?\n",
      "\n",
      "Translated to English: How to travel as an educational in the UK?\n",
      "\n",
      "Answer in English: If you're planning to travel to the UK for educational purposes, you can do so as a Standard Visitor. You are allowed to study courses up to 6 months. If you're planning to study or research certain subjects at postgraduate level or above, you may need to get an Academic Technology Approval Scheme (ATAS) certificate before you start your course or research. Please note that the accredited UK institution cannot be an academy or state-funded school.\n",
      "\n",
      "Answer translated back to hi: यदि आप शैक्षिक उद्देश्यों के लिए यूके की यात्रा करने की योजना बना रहे हैं, तो आप एक मानक आगंतुक के रूप में ऐसा कर सकते हैं। आपको 6 महीने तक के पाठ्यक्रमों का अध्ययन करने की अनुमति है। यदि आप स्नातकोत्तर स्तर या उससे अधिक पर कुछ विषयों का अध्ययन या शोध करने की योजना बना रहे हैं, तो आपको अपना पाठ्यक्रम या अनुसंधान शुरू करने से पहले एक शैक्षणिक प्रौद्योगिकी अनुमोदन योजना (एटीएएस) प्रमाण पत्र प्राप्त करने की आवश्यकता हो सकती है। कृपया ध्यान दें कि मान्यता प्राप्त यूके संस्थान एक अकादमी या राज्य-वित्त पोषित स्कूल नहीं हो सकता है।\n"
     ]
    }
   ],
   "source": [
    "test_multilingual(\"यूके में एक शैक्षणिक के रूप में कैसे यात्रा करें?\")"
   ]
  },
  {
   "cell_type": "markdown",
   "id": "f61fb751",
   "metadata": {},
   "source": [
    "## Add a Gradio Interface ##"
   ]
  },
  {
   "cell_type": "markdown",
   "id": "2756d1e7",
   "metadata": {},
   "source": [
    "Once everything is set up and tested, it's time to make the assistant interactive. Here, we'll use Gradio to quickly create a user-friendly web interface that lets anyone ask visa-related questions in a textbox and receive an answer from the model in real time. This is the final step in turning your RAG pipeline into a usable application."
   ]
  },
  {
   "cell_type": "code",
   "execution_count": 16,
   "id": "ab7259c6-8532-4c25-940b-5d32514fb783",
   "metadata": {},
   "outputs": [
    {
     "name": "stdout",
     "output_type": "stream",
     "text": [
      "Running on local URL:  http://127.0.0.1:7860\n"
     ]
    },
    {
     "name": "stderr",
     "output_type": "stream",
     "text": [
      "huggingface/tokenizers: The current process just got forked, after parallelism has already been used. Disabling parallelism to avoid deadlocks...\n",
      "To disable this warning, you can either:\n",
      "\t- Avoid using `tokenizers` before the fork if possible\n",
      "\t- Explicitly set the environment variable TOKENIZERS_PARALLELISM=(true | false)\n"
     ]
    },
    {
     "name": "stdout",
     "output_type": "stream",
     "text": [
      "Running on public URL: https://456f5ee2b4a47bea8e.gradio.live\n",
      "\n",
      "This share link expires in 72 hours. For free permanent hosting and GPU upgrades, run `gradio deploy` from Terminal to deploy to Spaces (https://huggingface.co/spaces)\n"
     ]
    },
    {
     "data": {
      "text/html": [
       "<div><iframe src=\"https://456f5ee2b4a47bea8e.gradio.live\" width=\"100%\" height=\"500\" allow=\"autoplay; camera; microphone; clipboard-read; clipboard-write;\" frameborder=\"0\" allowfullscreen></iframe></div>"
      ],
      "text/plain": [
       "<IPython.core.display.HTML object>"
      ]
     },
     "metadata": {},
     "output_type": "display_data"
    },
    {
     "data": {
      "text/plain": []
     },
     "execution_count": 16,
     "metadata": {},
     "output_type": "execute_result"
    }
   ],
   "source": [
    "gr.Interface(\n",
    "    fn=multilingual_travel_bot,\n",
    "    inputs=gr.Textbox(lines=2, placeholder=\"Ask your visa question in any language\"),\n",
    "    outputs=gr.Textbox(label=\"Answer\"),\n",
    "    title=\"Multilingual Travel Visa Assistant\",\n",
    "    description=\"Ask travel visa questions in any language\"\n",
    ").launch(share=True)\n"
   ]
  }
 ],
 "metadata": {
  "kernelspec": {
   "display_name": "env",
   "language": "python",
   "name": "python3"
  },
  "language_info": {
   "codemirror_mode": {
    "name": "ipython",
    "version": 3
   },
   "file_extension": ".py",
   "mimetype": "text/x-python",
   "name": "python",
   "nbconvert_exporter": "python",
   "pygments_lexer": "ipython3",
   "version": "3.8.11"
  }
 },
 "nbformat": 4,
 "nbformat_minor": 5
}
